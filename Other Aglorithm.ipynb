{
 "cells": [
  {
   "cell_type": "code",
   "execution_count": 1,
   "id": "7b568431",
   "metadata": {},
   "outputs": [
    {
     "name": "stderr",
     "output_type": "stream",
     "text": [
      "<ipython-input-1-1d181504e9e6>:31: SettingWithCopyWarning: \n",
      "A value is trying to be set on a copy of a slice from a DataFrame.\n",
      "Try using .loc[row_indexer,col_indexer] = value instead\n",
      "\n",
      "See the caveats in the documentation: https://pandas.pydata.org/pandas-docs/stable/user_guide/indexing.html#returning-a-view-versus-a-copy\n",
      "  company_Data[i]['date'] = pd.to_datetime(company_Data[i]['date'])\n"
     ]
    }
   ],
   "source": [
    "#讀入套件\n",
    "import pandas as pd\n",
    "import numpy as np\n",
    "\n",
    "import matplotlib.pyplot as plt\n",
    "import seaborn as sns\n",
    "sns.set_style('whitegrid')\n",
    "plt.style.use(\"fivethirtyeight\")\n",
    "%matplotlib inline\n",
    "\n",
    "from pandas_datareader.data import DataReader\n",
    "\n",
    "from datetime import datetime\n",
    "\n",
    "#企業\n",
    "#Delta Air Lines Inc. (DAL)\n",
    "#American Airlines Group Inc. (AAL)\n",
    "#United Airlines Holdings Inc. (UAL)\n",
    "#Southwest Airlines Co. (LUV)\n",
    "\n",
    "company_list = ['DAL', 'AAL', 'UAL', 'LUV']\n",
    "company_name = ['Delta', 'American', 'United', 'Southwest']\n",
    "company_Data = ['', '', '', '']\n",
    "\n",
    "RawData = pd.read_csv('Dataset/eod_prices_history.csv')\n",
    "#RawData = RawData.iloc[0:7]\n",
    "\n",
    "for i in range(4):\n",
    "    fliter = (RawData[\"ticker\"] == company_list[i])\n",
    "    company_Data[i] = RawData[fliter]\n",
    "    company_Data[i]['date'] = pd.to_datetime(company_Data[i]['date'])"
   ]
  },
  {
   "cell_type": "code",
   "execution_count": 14,
   "id": "ea7443d0",
   "metadata": {},
   "outputs": [],
   "source": [
    "from sklearn.preprocessing import MinMaxScaler\n",
    "training_data_len = ['', '', '', '']\n",
    "dataset = ['', '', '', '']\n",
    "scaled_data = ['', '', '', '']\n",
    "\n",
    "scaler = MinMaxScaler(feature_range=(0,1))\n",
    "\n",
    "for i in range(4):\n",
    "    dataset[i] = company_Data[i].filter(['adj_close']).values\n",
    "    training_data_len[i] = int(np.ceil( len(dataset[i]) * .95 ))\n",
    "    scaled_data[i] = scaler.fit_transform(dataset[i])\n",
    "    "
   ]
  },
  {
   "cell_type": "code",
   "execution_count": 25,
   "id": "ba5b3f9b",
   "metadata": {},
   "outputs": [],
   "source": [
    "def G_train(i):\n",
    "    test_data = scaled_data[i][training_data_len[i] - 60: , :]\n",
    "\n",
    "    x_test = []\n",
    "    y_test = dataset[i][training_data_len[i]:, :]\n",
    "    for i in range(60, len(test_data)):\n",
    "        x_test.append(test_data[i-60:i, 0])\n",
    "\n",
    "    x_test = np.array(x_test)\n",
    "\n",
    "    x_test = np.reshape(x_test, (x_test.shape[0], x_test.shape[1], 1 ))\n",
    "\n",
    "    predictions = model.predict(x_test)\n",
    "    predictions = scaler.inverse_transform(predictions)\n",
    "\n",
    "    rmse = np.sqrt(np.mean(((predictions - y_test) ** 2)))\n",
    "    print(\"MSE:\",rmse)"
   ]
  },
  {
   "cell_type": "code",
   "execution_count": 29,
   "id": "7baf576a",
   "metadata": {},
   "outputs": [],
   "source": [
    "from tensorflow import keras\n",
    "model_DAL = keras.models.load_model(\"DAL.h5\")\n",
    "model_AAL = keras.models.load_model(\"AAL.h5\")\n",
    "model_UAL = keras.models.load_model(\"UAL.h5\")\n",
    "model_LUV = keras.models.load_model(\"LUV.h5\")"
   ]
  },
  {
   "cell_type": "code",
   "execution_count": 432,
   "id": "96d81ee8",
   "metadata": {},
   "outputs": [
    {
     "data": {
      "text/html": [
       "<div>\n",
       "<style scoped>\n",
       "    .dataframe tbody tr th:only-of-type {\n",
       "        vertical-align: middle;\n",
       "    }\n",
       "\n",
       "    .dataframe tbody tr th {\n",
       "        vertical-align: top;\n",
       "    }\n",
       "\n",
       "    .dataframe thead th {\n",
       "        text-align: right;\n",
       "    }\n",
       "</style>\n",
       "<table border=\"1\" class=\"dataframe\">\n",
       "  <thead>\n",
       "    <tr style=\"text-align: right;\">\n",
       "      <th></th>\n",
       "      <th>DAL</th>\n",
       "      <th>AAL</th>\n",
       "      <th>UAL</th>\n",
       "      <th>LUV</th>\n",
       "      <th>Tbound</th>\n",
       "      <th>MSCI</th>\n",
       "      <th>CBOE</th>\n",
       "      <th>DALR</th>\n",
       "      <th>AALR</th>\n",
       "      <th>UALR</th>\n",
       "      <th>LUVR</th>\n",
       "      <th>TboundR</th>\n",
       "      <th>MSCIR</th>\n",
       "      <th>CBOER</th>\n",
       "      <th>Unnamed: 14</th>\n",
       "    </tr>\n",
       "  </thead>\n",
       "  <tbody>\n",
       "    <tr>\n",
       "      <th>0</th>\n",
       "      <td>18.409118</td>\n",
       "      <td>33.509130</td>\n",
       "      <td>31.247654</td>\n",
       "      <td>13.467229</td>\n",
       "      <td>4.682</td>\n",
       "      <td>24.97</td>\n",
       "      <td>13.09</td>\n",
       "      <td>0.000000</td>\n",
       "      <td>0.000000</td>\n",
       "      <td>0.000000</td>\n",
       "      <td>0.000000</td>\n",
       "      <td>0.000000</td>\n",
       "      <td>0.0</td>\n",
       "      <td>0.000000</td>\n",
       "      <td>1</td>\n",
       "    </tr>\n",
       "    <tr>\n",
       "      <th>1</th>\n",
       "      <td>18.640121</td>\n",
       "      <td>34.074685</td>\n",
       "      <td>33.129033</td>\n",
       "      <td>13.625012</td>\n",
       "      <td>4.644</td>\n",
       "      <td>24.97</td>\n",
       "      <td>12.91</td>\n",
       "      <td>0.012393</td>\n",
       "      <td>0.016598</td>\n",
       "      <td>0.056789</td>\n",
       "      <td>0.011580</td>\n",
       "      <td>-0.008183</td>\n",
       "      <td>0.0</td>\n",
       "      <td>-0.013943</td>\n",
       "      <td>0</td>\n",
       "    </tr>\n",
       "    <tr>\n",
       "      <th>2</th>\n",
       "      <td>18.089269</td>\n",
       "      <td>33.094390</td>\n",
       "      <td>33.035895</td>\n",
       "      <td>13.689981</td>\n",
       "      <td>4.632</td>\n",
       "      <td>24.97</td>\n",
       "      <td>13.15</td>\n",
       "      <td>-0.030452</td>\n",
       "      <td>-0.029621</td>\n",
       "      <td>-0.002819</td>\n",
       "      <td>0.004746</td>\n",
       "      <td>-0.002591</td>\n",
       "      <td>0.0</td>\n",
       "      <td>0.018251</td>\n",
       "      <td>0</td>\n",
       "    </tr>\n",
       "    <tr>\n",
       "      <th>3</th>\n",
       "      <td>17.440685</td>\n",
       "      <td>32.425150</td>\n",
       "      <td>33.324622</td>\n",
       "      <td>13.634293</td>\n",
       "      <td>4.638</td>\n",
       "      <td>24.97</td>\n",
       "      <td>13.21</td>\n",
       "      <td>-0.037188</td>\n",
       "      <td>-0.020640</td>\n",
       "      <td>0.008664</td>\n",
       "      <td>-0.004084</td>\n",
       "      <td>0.001294</td>\n",
       "      <td>0.0</td>\n",
       "      <td>0.004542</td>\n",
       "      <td>1</td>\n",
       "    </tr>\n",
       "    <tr>\n",
       "      <th>4</th>\n",
       "      <td>17.582840</td>\n",
       "      <td>32.368595</td>\n",
       "      <td>32.830993</td>\n",
       "      <td>13.495073</td>\n",
       "      <td>4.672</td>\n",
       "      <td>24.97</td>\n",
       "      <td>12.88</td>\n",
       "      <td>0.008085</td>\n",
       "      <td>-0.001747</td>\n",
       "      <td>-0.015035</td>\n",
       "      <td>-0.010316</td>\n",
       "      <td>0.007277</td>\n",
       "      <td>0.0</td>\n",
       "      <td>-0.025621</td>\n",
       "      <td>0</td>\n",
       "    </tr>\n",
       "  </tbody>\n",
       "</table>\n",
       "</div>"
      ],
      "text/plain": [
       "         DAL        AAL        UAL        LUV  Tbound   MSCI   CBOE      DALR  \\\n",
       "0  18.409118  33.509130  31.247654  13.467229   4.682  24.97  13.09  0.000000   \n",
       "1  18.640121  34.074685  33.129033  13.625012   4.644  24.97  12.91  0.012393   \n",
       "2  18.089269  33.094390  33.035895  13.689981   4.632  24.97  13.15 -0.030452   \n",
       "3  17.440685  32.425150  33.324622  13.634293   4.638  24.97  13.21 -0.037188   \n",
       "4  17.582840  32.368595  32.830993  13.495073   4.672  24.97  12.88  0.008085   \n",
       "\n",
       "       AALR      UALR      LUVR   TboundR  MSCIR     CBOER  Unnamed: 14  \n",
       "0  0.000000  0.000000  0.000000  0.000000    0.0  0.000000            1  \n",
       "1  0.016598  0.056789  0.011580 -0.008183    0.0 -0.013943            0  \n",
       "2 -0.029621 -0.002819  0.004746 -0.002591    0.0  0.018251            0  \n",
       "3 -0.020640  0.008664 -0.004084  0.001294    0.0  0.004542            1  \n",
       "4 -0.001747 -0.015035 -0.010316  0.007277    0.0 -0.025621            0  "
      ]
     },
     "execution_count": 432,
     "metadata": {},
     "output_type": "execute_result"
    }
   ],
   "source": [
    "all_Close = pd.read_csv('Dataset/Company/COMP.csv')\n",
    "all_Close.head()"
   ]
  },
  {
   "cell_type": "markdown",
   "id": "935792b7",
   "metadata": {},
   "source": [
    "# 1. Decition Tree"
   ]
  },
  {
   "cell_type": "code",
   "execution_count": 433,
   "id": "e22f5a7e",
   "metadata": {},
   "outputs": [],
   "source": [
    "import numpy as np\n",
    "from sklearn.tree import DecisionTreeClassifier\n",
    "from sklearn.model_selection import train_test_split\n",
    "import matplotlib.pyplot as plt"
   ]
  },
  {
   "cell_type": "code",
   "execution_count": 696,
   "id": "63591068",
   "metadata": {},
   "outputs": [],
   "source": [
    "X=all_Close[all_Close.columns[7:-1]] \n",
    "Y=all_Close[all_Close.columns[-1]] \n",
    "\n",
    "def refresh():\n",
    "    X_train,X_test,y_train,y_test = train_test_split(X,Y,test_size = 0.2)  #stratify=y就是按照y中的比例分配\n",
    "    train_x = np.array(X_train)\n",
    "    train_y = np.array(y_train)\n",
    "    test_x = np.array(X_test)\n",
    "    test_y = np.array(y_test)\n",
    "\n",
    "    from sklearn.preprocessing import MinMaxScaler\n",
    "    scaler = MinMaxScaler()\n",
    "    scaler.fit(train_x)\n",
    "    train_x = scaler.transform(train_x)\n",
    "    test_x = scaler.transform(test_x)\n",
    "    \n",
    "    return train_x, train_y, test_x, test_y"
   ]
  },
  {
   "cell_type": "code",
   "execution_count": 475,
   "id": "0fb13909",
   "metadata": {},
   "outputs": [
    {
     "name": "stdout",
     "output_type": "stream",
     "text": [
      "Accuracy on training set: 0.999\n",
      "Accuracy on test set: 0.535\n"
     ]
    }
   ],
   "source": [
    "refresh()\n",
    "tree = DecisionTreeClassifier(max_depth=30,random_state=5) #max_depth 樹的深度 random_state 固定我們分割的內容\n",
    "tree.fit(X_train,y_train)\n",
    "\n",
    "print(\"Accuracy on training set: {:.3f}\".format(tree.score(X_train,y_train)))\n",
    "print(\"Accuracy on test set: {:.3f}\".format(tree.score(X_test,y_test)))\n",
    "\n",
    "TreeScore = tree.score(X_test,y_test)"
   ]
  },
  {
   "cell_type": "code",
   "execution_count": 439,
   "id": "8d94ec48",
   "metadata": {},
   "outputs": [
    {
     "data": {
      "image/png": "[encoded data removed]",
      "text/plain": [
       "<Figure size 432x288 with 1 Axes>"
      ]
     },
     "metadata": {
      "needs_background": "light"
     },
     "output_type": "display_data"
    },
    {
     "name": "stdout",
     "output_type": "stream",
     "text": [
      "Feature importances:\n",
      "[0.12749358 0.11862495 0.08522626 0.15040034 0.17953675 0.14425306\n",
      " 0.19446507]\n"
     ]
    }
   ],
   "source": [
    "def plot_feature_importances(model):\n",
    "    n_features = X.shape[1]\n",
    "    plt.barh(range(n_features),model.feature_importances_,align='center')\n",
    "    plt.yticks(np.arange(n_features),X.columns)\n",
    "    plt.xlabel(\"Feature importance\")\n",
    "    plt.ylabel(\"feature\")\n",
    "    plt.savefig(\"feature_imporatnace_diabetes.png\")\n",
    "    plt.show()\n",
    "    plt.close()\n",
    "plot_feature_importances(tree)\n",
    "print(\"Feature importances:\\n{}\".format(tree.feature_importances_))"
   ]
  },
  {
   "cell_type": "markdown",
   "id": "90b1f640",
   "metadata": {},
   "source": [
    "# 2. SVM"
   ]
  },
  {
   "cell_type": "code",
   "execution_count": 265,
   "id": "057090f9",
   "metadata": {},
   "outputs": [
    {
     "data": {
      "text/plain": [
       "['tree.pkl']"
      ]
     },
     "execution_count": 265,
     "metadata": {},
     "output_type": "execute_result"
    }
   ],
   "source": [
    "import joblib\n",
    "joblib.dump(tree,'tree.pkl')"
   ]
  },
  {
   "cell_type": "code",
   "execution_count": 503,
   "id": "dbcfb3e2",
   "metadata": {},
   "outputs": [
    {
     "name": "stdout",
     "output_type": "stream",
     "text": [
      "Accuracy on training set: 0.550\n",
      "Accuracy on test set: 0.550\n"
     ]
    },
    {
     "data": {
      "text/plain": [
       "0.550185873605948"
      ]
     },
     "execution_count": 503,
     "metadata": {},
     "output_type": "execute_result"
    }
   ],
   "source": [
    "refresh()\n",
    "from sklearn import svm\n",
    "SVM = svm.SVC(kernel = 'linear')\n",
    "\n",
    "SVM.fit(train_x,train_y)\n",
    "y_pred = SVM.predict(test_x)\n",
    "\n",
    "\n",
    "print(\"Accuracy on training set: {:.3f}\".format(accuracy_score(test_y, y_pred)))\n",
    "print(\"Accuracy on test set: {:.3f}\".format(accuracy_score(test_y, y_pred)))\n",
    "\n",
    "SVMscore = accuracy_score(test_y, y_pred)\n",
    "SVMscore"
   ]
  },
  {
   "cell_type": "code",
   "execution_count": 505,
   "id": "aa47d50d",
   "metadata": {},
   "outputs": [
    {
     "data": {
      "text/plain": [
       "['svm.pkl']"
      ]
     },
     "execution_count": 505,
     "metadata": {},
     "output_type": "execute_result"
    }
   ],
   "source": [
    "import joblib \n",
    "\n",
    "#Storage Model\n",
    "joblib.dump(SVM, 'svm.pkl')"
   ]
  },
  {
   "cell_type": "markdown",
   "id": "7f13522e",
   "metadata": {},
   "source": [
    "# 3. KNN"
   ]
  },
  {
   "cell_type": "code",
   "execution_count": 783,
   "id": "b5aefbab",
   "metadata": {},
   "outputs": [
    {
     "data": {
      "text/plain": [
       "0.5278810408921933"
      ]
     },
     "execution_count": 783,
     "metadata": {},
     "output_type": "execute_result"
    }
   ],
   "source": [
    "train_x, train_y, test_x, test_y = refresh()\n",
    "from sklearn.neighbors import KNeighborsClassifier\n",
    "knn_clf = KNeighborsClassifier(n_neighbors = 25)\n",
    "knn_clf.fit(train_x,train_y)\n",
    "y_pred = knn_clf.predict(test_x)\n",
    "\n",
    "KNNscore = accuracy_score(test_y, y_pred)\n",
    "KNNscore"
   ]
  },
  {
   "cell_type": "code",
   "execution_count": 874,
   "id": "3cb0172a",
   "metadata": {},
   "outputs": [
    {
     "data": {
      "text/plain": [
       "['KNN.pkl']"
      ]
     },
     "execution_count": 874,
     "metadata": {},
     "output_type": "execute_result"
    }
   ],
   "source": [
    "import joblib \n",
    "\n",
    "#Storage Model\n",
    "joblib.dump(knn_clf, 'KNN.pkl')"
   ]
  },
  {
   "cell_type": "markdown",
   "id": "1a4bc10b",
   "metadata": {},
   "source": [
    "# 4. SGD"
   ]
  },
  {
   "cell_type": "code",
   "execution_count": 873,
   "id": "8a140573",
   "metadata": {},
   "outputs": [
    {
     "data": {
      "text/plain": [
       "0.600185873605948"
      ]
     },
     "execution_count": 873,
     "metadata": {},
     "output_type": "execute_result"
    }
   ],
   "source": [
    "train_x, train_y, test_x, test_y = refresh()\n",
    "from sklearn.linear_model import SGDClassifier\n",
    "SGD_clf = SGDClassifier(loss=\"hinge\", alpha=0.01, max_iter=200)\n",
    "SGD_clf.fit(train_x, train_y)\n",
    "\n",
    "SGDscore = accuracy_score(test_y, y_pred)\n",
    "SGDscore"
   ]
  },
  {
   "cell_type": "code",
   "execution_count": 875,
   "id": "1b7bc677",
   "metadata": {},
   "outputs": [
    {
     "data": {
      "text/plain": [
       "['SGD.pkl']"
      ]
     },
     "execution_count": 875,
     "metadata": {},
     "output_type": "execute_result"
    }
   ],
   "source": [
    "import joblib \n",
    "\n",
    "#Storage Model\n",
    "joblib.dump(SGD_clf, 'SGD.pkl')"
   ]
  },
  {
   "cell_type": "markdown",
   "id": "83f95664",
   "metadata": {},
   "source": [
    "# 5. AdaBoost"
   ]
  },
  {
   "cell_type": "code",
   "execution_count": 878,
   "id": "b50b750f",
   "metadata": {},
   "outputs": [
    {
     "data": {
      "text/plain": [
       "0.6392936802973977"
      ]
     },
     "execution_count": 878,
     "metadata": {},
     "output_type": "execute_result"
    }
   ],
   "source": [
    "train_x, train_y, test_x, test_y = refresh()\n",
    "from sklearn.ensemble import GradientBoostingClassifier\n",
    "\n",
    "Ada_clf = GradientBoostingClassifier(n_estimators=100, learning_rate=1.0,max_depth=5, random_state=0)\n",
    "Ada_clf.fit(train_x, train_y)\n",
    "\n",
    "AdaBoostscores = Ada_clf.score(test_x, test_y)\n",
    "AdaBoostscores"
   ]
  },
  {
   "cell_type": "code",
   "execution_count": 880,
   "id": "7ead0ec0",
   "metadata": {},
   "outputs": [
    {
     "data": {
      "text/plain": [
       "['Ada.pkl']"
      ]
     },
     "execution_count": 880,
     "metadata": {},
     "output_type": "execute_result"
    }
   ],
   "source": [
    "import joblib \n",
    "\n",
    "#Storage Model\n",
    "joblib.dump(Ada_clf, 'Ada.pkl')"
   ]
  },
  {
   "cell_type": "markdown",
   "id": "4eabf31d",
   "metadata": {},
   "source": [
    "# 6. NN"
   ]
  },
  {
   "cell_type": "code",
   "execution_count": 885,
   "id": "543292e7",
   "metadata": {},
   "outputs": [
    {
     "data": {
      "text/plain": [
       "0.726392936802973"
      ]
     },
     "execution_count": 885,
     "metadata": {},
     "output_type": "execute_result"
    }
   ],
   "source": [
    "train_x, train_y, test_x, test_y = refresh()\n",
    "from sklearn.neural_network import MLPClassifier\n",
    "nn_clf = MLPClassifier(solver='lbfgs', alpha=1e-5,hidden_layer_sizes=(5, 2), random_state=1)\n",
    "nn_clf.fit(train_x, train_y)\n",
    "\n",
    "nnScore = nn_clf.score(test_x, test_y)\n",
    "nnScore"
   ]
  },
  {
   "cell_type": "code",
   "execution_count": 887,
   "id": "e51d0387",
   "metadata": {},
   "outputs": [
    {
     "data": {
      "text/plain": [
       "['nn.pkl']"
      ]
     },
     "execution_count": 887,
     "metadata": {},
     "output_type": "execute_result"
    }
   ],
   "source": [
    "import joblib \n",
    "\n",
    "#Storage Model\n",
    "joblib.dump(nn_clf, 'nn.pkl')"
   ]
  },
  {
   "cell_type": "code",
   "execution_count": 891,
   "id": "ef6138ed",
   "metadata": {},
   "outputs": [
    {
     "name": "stdout",
     "output_type": "stream",
     "text": [
      "TreeScore:\n",
      "  0.5353159851301115\n",
      "SVMscore:\n",
      "  0.550185873605948\n",
      "KNNscore:\n",
      "  0.5278810408921933\n",
      "SGDscore:\n",
      "  0.600185873605948\n",
      "AdaBoostscores:\n",
      "  0.6392936802973977\n",
      "nnScore:\n",
      "  0.726392936802973\n"
     ]
    }
   ],
   "source": [
    "print('TreeScore:\\n ', TreeScore)\n",
    "print('SVMscore:\\n ', SVMscore)\n",
    "print('KNNscore:\\n ', KNNscore)\n",
    "print('SGDscore:\\n ', SGDscore)\n",
    "print('AdaBoostscores:\\n ', AdaBoostscores)\n",
    "print('nnScore:\\n ', nnScore)"
   ]
  },
  {
   "cell_type": "code",
   "execution_count": null,
   "id": "aa058d2a",
   "metadata": {},
   "outputs": [],
   "source": []
  }
 ],
 "metadata": {
  "kernelspec": {
   "display_name": "Python 3",
   "language": "python",
   "name": "python3"
  },
  "language_info": {
   "codemirror_mode": {
    "name": "ipython",
    "version": 3
   },
   "file_extension": ".py",
   "mimetype": "text/x-python",
   "name": "python",
   "nbconvert_exporter": "python",
   "pygments_lexer": "ipython3",
   "version": "3.8.8"
  }
 },
 "nbformat": 4,
 "nbformat_minor": 5
}
